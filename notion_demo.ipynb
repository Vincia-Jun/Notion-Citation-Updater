{
 "cells": [
  {
   "cell_type": "markdown",
   "metadata": {},
   "source": [
    "## Demo1: Access the database page\n",
    "Access the database and output title of pages with \"Sampling\" in the \"Domain\" property"
   ]
  },
  {
   "cell_type": "code",
   "execution_count": 1,
   "metadata": {},
   "outputs": [
    {
     "name": "stdout",
     "output_type": "stream",
     "text": [
      "Title: Learning to Sample\n",
      "Title: RandLA-Net: Efficient Semantic Segmentation of Large-Scale Point Clouds\n",
      "Title: SampleNet: Differentiable Point Cloud Sampling\n",
      "Title: Learning to Upsample by Learning to Sample\n",
      "Title: Geometry Sharing Network for 3D Point Cloud Classification and Segmentation\n",
      "Title: Adaptive Hierarchical Down-Sampling for Point Cloud Classification\n",
      "Title: PointNet: Deep Learning on Point Sets for 3D Classification and Segmentation\n",
      "Title: ModelNet-O: A Large-Scale Synthetic Dataset for Occlusion-Aware Point Cloud Classification\n",
      "Title: Modeling Point Clouds with Self-Attention and Gumbel Subset Sampling\n"
     ]
    }
   ],
   "source": [
    "import requests\n",
    "\n",
    "# make sure your integration have access to the this database\n",
    "database_id = \"12c20aff303480939da8e7c060e079d3\"\n",
    "url = \"https://api.notion.com/v1/databases/%s/query\" % (database_id)  \n",
    "\n",
    "\n",
    "# Integration_token: You Own Internal Integration Secret\n",
    "Integration_token = \"ntn_M877443077242JBENHLM9RPpcTyDuUwSXNCnYZvLuIEeeW\"\n",
    "headers = {\n",
    "    \"Authorization\": \"Bearer %s\" % Integration_token,\n",
    "    \"Content-Type\": \"application/json\",\n",
    "    \"Notion-Version\": \"2022-06-28\" # this is the latest version as of now\n",
    "}\n",
    "\n",
    "response = requests.post(url, headers=headers)\n",
    "if response.status_code == 200:\n",
    "    data = response.json()\n",
    "    for page in data['results']:\n",
    "\n",
    "        # check if the 'Sampling' property is present\n",
    "        is_sampling_present = any(item['name'] == 'Sampling' for item in page['properties']['Domain']['multi_select'])\n",
    "        if is_sampling_present:\n",
    "            title = page['properties']['Title']['rich_text'][0]['plain_text']\n",
    "            print(\"Title:\", title)\n",
    "else:\n",
    "    print(f\"Error: {response.status_code}, {response.text}\")\n",
    "\n"
   ]
  },
  {
   "cell_type": "markdown",
   "metadata": {},
   "source": [
    "## Demo2: Update property values of pages in the database\n",
    "Modify the citation count of all pages to 99"
   ]
  },
  {
   "cell_type": "code",
   "execution_count": 5,
   "metadata": {},
   "outputs": [
    {
     "name": "stdout",
     "output_type": "stream",
     "text": [
      "Updated page 12c20aff-3034-809c-ba09-f763a8100dfc successfully.\n",
      "Updated page 12c20aff-3034-800f-8116-ccecb05cf0ff successfully.\n",
      "Updated page 12c20aff-3034-80bd-97c2-edf8fa6680ec successfully.\n",
      "Updated page 12c20aff-3034-802b-b519-f1343d300d93 successfully.\n",
      "Updated page 12c20aff-3034-8078-a508-fa456e110e41 successfully.\n",
      "Updated page 12c20aff-3034-8186-b99e-d0fe347ed082 successfully.\n",
      "Updated page 12c20aff-3034-81e6-bf56-faf668cc92d8 successfully.\n",
      "Updated page 12c20aff-3034-8181-8b40-ec12df61b4cd successfully.\n",
      "Updated page 12c20aff-3034-81a7-8e2d-fcdf4893a740 successfully.\n",
      "Updated page 12c20aff-3034-81bc-8b44-cb2b2e502703 successfully.\n",
      "Updated page 12c20aff-3034-815b-bd5b-fc9f753d0636 successfully.\n",
      "Updated page 12c20aff-3034-81f9-9079-e2f65c1bfe64 successfully.\n"
     ]
    }
   ],
   "source": [
    "import requests\n",
    "\n",
    "# make sure your integration have access to the this database\n",
    "database_id = \"12c20aff303480939da8e7c060e079d3\"\n",
    "url = \"https://api.notion.com/v1/databases/%s/query\" % (database_id)  \n",
    "\n",
    "\n",
    "# Integration_token: You Own Internal Integration Secret\n",
    "Integration_token = \"ntn_M877443077242JBENHLM9RPpcTyDuUwSXNCnYZvLuIEeeW\"\n",
    "headers = {\n",
    "    \"Authorization\": \"Bearer %s\" % Integration_token,\n",
    "    \"Content-Type\": \"application/json\",\n",
    "    \"Notion-Version\": \"2022-06-28\" # this is the latest version as of now\n",
    "}\n",
    "\n",
    "response = requests.post(url, headers=headers)\n",
    "\n",
    "if response.status_code == 200:\n",
    "    data = response.json()\n",
    "    page_ids = [result['id'] for result in data['results']]  # 获取所有页面 ID\n",
    "\n",
    "    # undate the Citation property for each page\n",
    "    for page_id in page_ids:\n",
    "        update_url = f\"https://api.notion.com/v1/pages/{page_id}\"\n",
    "        update_data = {\n",
    "            \"properties\": {\n",
    "                \"Citations\": {  # 替换为你的属性名称\n",
    "                    \"number\": 99\n",
    "                }\n",
    "            }\n",
    "        }\n",
    "        update_response = requests.patch(update_url, headers=headers, json=update_data)\n",
    "        \n",
    "        if update_response.status_code == 200:\n",
    "            print(f\"Updated page {page_id} successfully.\")\n",
    "        else:\n",
    "            print(f\"Failed to update page {page_id}: {update_response.text}\")\n",
    "else:\n",
    "    print(f\"Error querying database: {response.status_code}, {response.text}\")"
   ]
  }
 ],
 "metadata": {
  "kernelspec": {
   "display_name": "Jun",
   "language": "python",
   "name": "python3"
  },
  "language_info": {
   "codemirror_mode": {
    "name": "ipython",
    "version": 3
   },
   "file_extension": ".py",
   "mimetype": "text/x-python",
   "name": "python",
   "nbconvert_exporter": "python",
   "pygments_lexer": "ipython3",
   "version": "3.10.10"
  }
 },
 "nbformat": 4,
 "nbformat_minor": 2
}
