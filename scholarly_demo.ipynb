{
 "cells": [
  {
   "cell_type": "code",
   "execution_count": 2,
   "metadata": {},
   "outputs": [
    {
     "data": {
      "text/plain": [
       "{'container_type': 'Publication',\n",
       " 'source': <PublicationSource.PUBLICATION_SEARCH_SNIPPET: 'PUBLICATION_SEARCH_SNIPPET'>,\n",
       " 'bib': {'title': 'Attention is all you need',\n",
       "  'author': ['A Vaswani'],\n",
       "  'pub_year': '2017',\n",
       "  'venue': 'Advances in Neural Information Processing Systems',\n",
       "  'abstract': 'Attention is all you need Attention is all you need'},\n",
       " 'filled': False,\n",
       " 'gsrank': 1,\n",
       " 'pub_url': 'https://user.phil.hhu.de/~cwurm/wp-content/uploads/2020/01/7181-attention-is-all-you-need.pdf',\n",
       " 'author_id': ['oR9sCGYAAAAJ'],\n",
       " 'url_scholarbib': '/scholar?hl=en&q=info:5Gohgn6QFikJ:scholar.google.com/&output=cite&scirp=0&hl=en',\n",
       " 'url_add_sclib': '/citations?hl=en&xsrf=&continue=/scholar%3Fq%3Dattention%2Bis%2Ball%2Byou%2Bneed%26hl%3Den%26as_sdt%3D0,5&citilm=1&update_op=library_add&info=5Gohgn6QFikJ&ei=WUoeZ7_kDLTA6rQP67uRkQw&json=',\n",
       " 'num_citations': 138640,\n",
       " 'citedby_url': '/scholar?cites=2960712678066186980&as_sdt=2005&sciodt=0,5&hl=en',\n",
       " 'url_related_articles': '/scholar?q=related:5Gohgn6QFikJ:scholar.google.com/&scioq=attention+is+all+you+need&hl=en&as_sdt=0,5',\n",
       " 'eprint_url': 'https://user.phil.hhu.de/~cwurm/wp-content/uploads/2020/01/7181-attention-is-all-you-need.pdf'}"
      ]
     },
     "execution_count": 2,
     "metadata": {},
     "output_type": "execute_result"
    }
   ],
   "source": [
    "from scholarly import scholarly\n",
    "\n",
    "title = 'attention is all you need'\n",
    "search_query = scholarly.search_single_pub(title)\n",
    "search_query"
   ]
  },
  {
   "cell_type": "code",
   "execution_count": 3,
   "metadata": {},
   "outputs": [
    {
     "data": {
      "text/plain": [
       "138640"
      ]
     },
     "execution_count": 3,
     "metadata": {},
     "output_type": "execute_result"
    }
   ],
   "source": [
    "search_query['num_citations']"
   ]
  }
 ],
 "metadata": {
  "kernelspec": {
   "display_name": "Jun",
   "language": "python",
   "name": "python3"
  },
  "language_info": {
   "codemirror_mode": {
    "name": "ipython",
    "version": 3
   },
   "file_extension": ".py",
   "mimetype": "text/x-python",
   "name": "python",
   "nbconvert_exporter": "python",
   "pygments_lexer": "ipython3",
   "version": "3.10.10"
  }
 },
 "nbformat": 4,
 "nbformat_minor": 2
}
